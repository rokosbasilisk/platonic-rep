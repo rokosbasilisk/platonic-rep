{
 "cells": [
  {
   "cell_type": "code",
   "execution_count": 1,
   "id": "2dcf823c-f7d4-49f5-94d2-52b480957d8a",
   "metadata": {},
   "outputs": [],
   "source": [
    "# get a folder full of images whre the image-classifiers are wrong\n",
    "# prepare VIT models\n",
    "# compute alignment scores\n",
    "# get spearman correlation \n",
    "# plot the correlation matrix"
   ]
  }
 ],
 "metadata": {
  "kernelspec": {
   "display_name": "Python 3 (ipykernel)",
   "language": "python",
   "name": "python3"
  },
  "language_info": {
   "codemirror_mode": {
    "name": "ipython",
    "version": 3
   },
   "file_extension": ".py",
   "mimetype": "text/x-python",
   "name": "python",
   "nbconvert_exporter": "python",
   "pygments_lexer": "ipython3",
   "version": "3.12.4"
  }
 },
 "nbformat": 4,
 "nbformat_minor": 5
}
